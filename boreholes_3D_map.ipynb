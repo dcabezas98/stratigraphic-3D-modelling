{
 "cells": [
  {
   "cell_type": "markdown",
   "metadata": {},
   "source": [
    "# The figure 3D_Boreholes_LRD.html"
   ]
  },
  {
   "cell_type": "code",
   "execution_count": 1,
   "metadata": {},
   "outputs": [],
   "source": [
    "DATADIR='data/' # Directory with the data\n",
    "FIGURESDIR='figures/' # Figures produced"
   ]
  },
  {
   "cell_type": "code",
   "execution_count": 2,
   "metadata": {},
   "outputs": [],
   "source": [
    "import functions\n",
    "from functions import *"
   ]
  },
  {
   "cell_type": "markdown",
   "metadata": {},
   "source": [
    "We read the borehole data classified by granulometry."
   ]
  },
  {
   "cell_type": "code",
   "execution_count": 3,
   "metadata": {},
   "outputs": [],
   "source": [
    "clays=pd.read_csv(DATADIR+'clays.csv')\n",
    "sands=pd.read_csv(DATADIR+'sands.csv')\n",
    "gravels=pd.read_csv(DATADIR+'gravels.csv')\n",
    "basament=pd.read_csv(DATADIR+'basament.csv')"
   ]
  },
  {
   "cell_type": "markdown",
   "metadata": {},
   "source": [
    "We have used Google Earth to draw the LRD contour and we have created the file 'deltacontourn.csv' with the corresponding data. We read this file."
   ]
  },
  {
   "cell_type": "code",
   "execution_count": 4,
   "metadata": {},
   "outputs": [],
   "source": [
    "deltacontourn=pd.read_csv(DATADIR+'deltacontourn.csv')"
   ]
  },
  {
   "cell_type": "markdown",
   "metadata": {},
   "source": [
    "The function coordinates(data, positions) lists the X, Y and Z UTM coordinates extracted from 'data' by looking at the data indicated at 'positions'."
   ]
  },
  {
   "cell_type": "code",
   "execution_count": 5,
   "metadata": {},
   "outputs": [],
   "source": [
    "xyzcontourn=coordinates(DATADIR+'deltacontourn.csv',[0,1,2])\n",
    "xyzclays=coordinates(DATADIR+'clays.csv',[1,2,3])\n",
    "xyzsands=coordinates(DATADIR+'sands.csv',[1,2,3])\n",
    "xyzgravels=coordinates(DATADIR+'gravels.csv',[1,2,3])\n",
    "xyzbasament=coordinates(DATADIR+'basament.csv',[1,2,3])"
   ]
  },
  {
   "cell_type": "markdown",
   "metadata": {},
   "source": [
    "The function bounds(list) returns some bounds of 'list', where 'list' is a list obtained using the above function 'coordinates'. These bounds are used to delimit the bounds of the figure we are going to create."
   ]
  },
  {
   "cell_type": "code",
   "execution_count": 6,
   "metadata": {},
   "outputs": [],
   "source": [
    "bounds=bounds(xyzcontourn)"
   ]
  },
  {
   "cell_type": "markdown",
   "metadata": {},
   "source": [
    "We use the 'Polygon' function to create a 2D polygon with the X and Y coordinates of the delta contour."
   ]
  },
  {
   "cell_type": "code",
   "execution_count": 7,
   "metadata": {},
   "outputs": [],
   "source": [
    "contourn_poly=Polygon(zip(xyzcontourn[0],xyzcontourn[1]))"
   ]
  },
  {
   "cell_type": "markdown",
   "metadata": {},
   "source": [
    "The near(xyz,polyg,dis) function uses the geometry function 'distance' to select coordinates in the 'xyz' list that are within a distance less than 'dis' from the polygon 'polyg'."
   ]
  },
  {
   "cell_type": "code",
   "execution_count": 8,
   "metadata": {},
   "outputs": [],
   "source": [
    "xyzclays_near=nearby(xyzclays,contourn_poly,300)\n",
    "xyzsands_near=nearby(xyzsands,contourn_poly,300)\n",
    "xyzgravels_near=nearby(xyzgravels,contourn_poly,300)\n",
    "xyzbasament_near=nearby(xyzbasament,contourn_poly,300)"
   ]
  },
  {
   "cell_type": "markdown",
   "metadata": {},
   "source": [
    "The 'data_p(list,names,colors,symbols,size)' function applies the plotly.graph_objects 'Scatter3d' function to 'list', which is a list of lists of xyz coordinates, to create the data 3D figure environment. In the variable 'names' we indicate the names in the legend, in the variable 'colors' we indicate the colors of the markers, in the variable 'symbols' we indicate the symbols used as markers, and in the variable 'siz' we indicate the size of the markers."
   ]
  },
  {
   "cell_type": "code",
   "execution_count": 9,
   "metadata": {},
   "outputs": [],
   "source": [
    "cls_data=data_p([xyzclays_near,xyzsands_near,xyzgravels_near,xyzbasament_near],\n",
    "              ['Clays','Sands','Gravels','Basament'],\n",
    "              ['grey','yellow','lightskyblue','red'],\n",
    "              ['circle','circle','circle','circle'],1.5)"
   ]
  },
  {
   "cell_type": "markdown",
   "metadata": {},
   "source": [
    "We also want to add a mark at the position of each borehole at elevation (in Spanish 'cota') 7."
   ]
  },
  {
   "cell_type": "code",
   "execution_count": 10,
   "metadata": {},
   "outputs": [],
   "source": [
    "xyzdat=coordinates(DATADIR+'boreholes.csv',[1,2,3])\n",
    "xyzdat_near=nearby(xyzdat,contourn_poly,300)\n",
    "marks_dat=data_p([xyzdat_near],['marks for all boreholes'],['black'],['circle'],3)"
   ]
  },
  {
   "cell_type": "markdown",
   "metadata": {},
   "source": [
    "Now we built the figure and create the HTML file."
   ]
  },
  {
   "cell_type": "code",
   "execution_count": 11,
   "metadata": {},
   "outputs": [],
   "source": [
    "dat=marks_dat+cls_data"
   ]
  },
  {
   "cell_type": "code",
   "execution_count": 12,
   "metadata": {},
   "outputs": [
    {
     "data": {
      "text/plain": [
       "'figures/3D_Boreholes_LRD.html'"
      ]
     },
     "execution_count": 12,
     "metadata": {},
     "output_type": "execute_result"
    }
   ],
   "source": [
    "fig=go.Figure(data=dat)\n",
    "fig.add_trace(go.Scatter3d(x=xyzcontourn[0],y=xyzcontourn[1],z=xyzcontourn[2], mode=\"lines\",\n",
    "                           line_width=5,\n",
    "                           name='Delta Contour',\n",
    "                           marker = dict(\n",
    "                               size = 4,\n",
    "                               color = 'black'\n",
    "                               )\n",
    "                          )\n",
    "             )\n",
    "\n",
    "fig.update_layout( title=\"3D boreholes Llobregat Delta, Z scale is x 50.\",\n",
    "    scene=dict(aspectratio=dict(x=2, y=2, z=0.5),\n",
    "                             xaxis = dict(range=[bounds[0]-2000,bounds[1]+2000],),\n",
    "                             yaxis = dict(range=[bounds[2]-2000,bounds[3]+2000])\n",
    "                            )\n",
    "                 )\n",
    "\n",
    "#fig.show()\n",
    "go_offline.plot(fig,filename=FIGURESDIR+'3D_Boreholes_LRD.html',validate=True, auto_open=False)"
   ]
  }
 ],
 "metadata": {
  "kernelspec": {
   "display_name": "Python 3",
   "language": "python",
   "name": "python3"
  },
  "language_info": {
   "codemirror_mode": {
    "name": "ipython",
    "version": 3
   },
   "file_extension": ".py",
   "mimetype": "text/x-python",
   "name": "python",
   "nbconvert_exporter": "python",
   "pygments_lexer": "ipython3",
   "version": "3.8.10"
  }
 },
 "nbformat": 4,
 "nbformat_minor": 5
}
