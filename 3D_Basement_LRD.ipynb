{
 "cells": [
  {
   "cell_type": "markdown",
   "metadata": {},
   "source": [
    "# 3D Basement LRD"
   ]
  },
  {
   "cell_type": "code",
   "execution_count": 1,
   "metadata": {},
   "outputs": [],
   "source": [
    "DATADIR='data/' # Directory with the data\n",
    "FIGURESDIR='figures/' # Figures produced"
   ]
  },
  {
   "cell_type": "code",
   "execution_count": 2,
   "metadata": {},
   "outputs": [],
   "source": [
    "import functions\n",
    "from functions import *\n",
    "\n",
    "deltacontourn=pd.read_csv(DATADIR+'deltacontourn.csv')\n",
    "xyzcontourn=coordinates(DATADIR+'deltacontourn.csv',[0,1,2])\n",
    "\n",
    "contourn_bounds=bounds(xyzcontourn)\n",
    "\n",
    "contourn_poly=Polygon(zip(xyzcontourn[0],xyzcontourn[1]))"
   ]
  },
  {
   "cell_type": "markdown",
   "metadata": {},
   "source": [
    "We read the data from those boreholes that reach the basement."
   ]
  },
  {
   "cell_type": "code",
   "execution_count": 3,
   "metadata": {},
   "outputs": [],
   "source": [
    "basement=pd.read_csv(DATADIR+'basement.csv')"
   ]
  },
  {
   "cell_type": "markdown",
   "metadata": {},
   "source": [
    "Now we apply the function 'coordinates' to extract the coordinates from the data."
   ]
  },
  {
   "cell_type": "code",
   "execution_count": 4,
   "metadata": {},
   "outputs": [],
   "source": [
    "xyzbasement=coordinates(DATADIR+'basement.csv',[1,2,3])"
   ]
  },
  {
   "cell_type": "markdown",
   "metadata": {},
   "source": [
    "The function `nearby` reduces de coordinates to those inside the delta contour."
   ]
  },
  {
   "cell_type": "code",
   "execution_count": 5,
   "metadata": {},
   "outputs": [],
   "source": [
    "xyzbasement_near=nearby(xyzbasement,contourn_poly,500)"
   ]
  },
  {
   "cell_type": "markdown",
   "metadata": {},
   "source": [
    "We are going to adapt the bounds keeping in mind the bound given by the data in the basement, so first we apply the `bounds` function to the basement and then we use a new function `bounds_join(b1,b2)` which calculates new bounds of two lists of bounds."
   ]
  },
  {
   "cell_type": "code",
   "execution_count": 6,
   "metadata": {
    "scrolled": true
   },
   "outputs": [],
   "source": [
    "basement_bounds=bounds(xyzbasement)"
   ]
  },
  {
   "cell_type": "code",
   "execution_count": 7,
   "metadata": {},
   "outputs": [],
   "source": [
    "new_bounds=bounds_join(contourn_bounds,basement_bounds)"
   ]
  },
  {
   "cell_type": "markdown",
   "metadata": {},
   "source": [
    "We apply the interpolation."
   ]
  },
  {
   "cell_type": "code",
   "execution_count": 8,
   "metadata": {},
   "outputs": [],
   "source": [
    "basement_itp=interpolation(xyzbasement,100,new_bounds)"
   ]
  },
  {
   "cell_type": "markdown",
   "metadata": {},
   "source": [
    "We want to represent the basement surface only within the delta contour. We have defined a 'slice' function to slice data, such as the output of the 'interpolation' function, and take only those points in a polynomial region. We apply this function to the `basement_itp` list."
   ]
  },
  {
   "cell_type": "code",
   "execution_count": 9,
   "metadata": {},
   "outputs": [],
   "source": [
    "cbasement_itp=cutting(basement_itp,contourn_poly,500)"
   ]
  },
  {
   "cell_type": "markdown",
   "metadata": {},
   "source": [
    "We also want to add a mark at the position of each borehole at height 7."
   ]
  },
  {
   "cell_type": "code",
   "execution_count": 10,
   "metadata": {},
   "outputs": [],
   "source": [
    "xyzdat=coordinates(DATADIR+'boreholes.csv',[1,2,3])\n",
    "xyzdat_near=nearby(xyzdat,contourn_poly,300)"
   ]
  },
  {
   "cell_type": "markdown",
   "metadata": {},
   "source": [
    "The 'data_p' function is now used to obtain the data for the points in the figure."
   ]
  },
  {
   "cell_type": "code",
   "execution_count": 11,
   "metadata": {},
   "outputs": [],
   "source": [
    "data_points=data_p([xyzdat_near,xyzbasement_near],['boreholes location','basement points'],['darkblue','red'],['cross','circle'],2)"
   ]
  },
  {
   "cell_type": "markdown",
   "metadata": {},
   "source": [
    "To draw the basement surface we use the plotly.graph_objects fuction 'Surface'."
   ]
  },
  {
   "cell_type": "code",
   "execution_count": 12,
   "metadata": {},
   "outputs": [
    {
     "data": {
      "text/plain": [
       "'figures/3D_Basement_LRD.html'"
      ]
     },
     "execution_count": 12,
     "metadata": {},
     "output_type": "execute_result"
    }
   ],
   "source": [
    "fig=go.Figure(data=data_points)\n",
    "fig.add_trace(go.Scatter3d(x=xyzcontourn[0],y=xyzcontourn[1],z=xyzcontourn[2], mode=\"lines\",\n",
    "                           line_width=5,\n",
    "                           name='Delta Contour',\n",
    "                           marker = dict(\n",
    "                               size = 4,\n",
    "                               color = 'black'\n",
    "                               )\n",
    "                          )\n",
    "             )\n",
    "\n",
    "fig.add_trace(go.Surface(z=cbasement_itp[0],x=cbasement_itp[1],y=cbasement_itp[2], \n",
    "                        opacity = 0.7,\n",
    "                        colorscale='brwnyl',\n",
    "                        name='superficie basemento',\n",
    "                        #label='superficie basemento',\n",
    "                        showscale=False\n",
    "                        )             \n",
    "             )\n",
    "\n",
    "fig.update_layout( title=\"Pliocene basement Llobregat Delta, Z scale is x 50\",\n",
    "    scene=dict(aspectratio=dict(x=2, y=2, z=0.5),\n",
    "               xaxis = dict(range=[contourn_bounds[0]-2000,contourn_bounds[1]+2000],),\n",
    "               yaxis = dict(range=[contourn_bounds[2]-2000,contourn_bounds[3]+2000])\n",
    "                            )\n",
    "                 )\n",
    "\n",
    "#fig.show()\n",
    "go_offline.plot(fig,filename=FIGURESDIR+'3D_Basement_LRD.html',validate=True, auto_open=False)"
   ]
  }
 ],
 "metadata": {
  "kernelspec": {
   "display_name": "Python 3",
   "language": "python",
   "name": "python3"
  },
  "language_info": {
   "codemirror_mode": {
    "name": "ipython",
    "version": 3
   },
   "file_extension": ".py",
   "mimetype": "text/x-python",
   "name": "python",
   "nbconvert_exporter": "python",
   "pygments_lexer": "ipython3",
   "version": "3.8.10"
  }
 },
 "nbformat": 4,
 "nbformat_minor": 5
}
