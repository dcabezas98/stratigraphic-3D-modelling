{
 "cells": [
  {
   "cell_type": "markdown",
   "id": "b6192fde",
   "metadata": {},
   "source": [
    "# 3D Basament LRD"
   ]
  },
  {
   "cell_type": "markdown",
   "id": "f3d7acff",
   "metadata": {},
   "source": [
    "Las primeras lineas son para introducir el módulo funciones y los datos del contorno, incluyendo los bounds que nos servirán para establecer los límites de nuestra figura y el polinómio del contorno que utilizamos para quedarnos con los datos que nos interesan. Estas líneas ya están explicadas en los otros notebook."
   ]
  },
  {
   "cell_type": "code",
   "execution_count": 1,
   "id": "a875d584",
   "metadata": {},
   "outputs": [],
   "source": [
    "import functions\n",
    "from functions import *\n",
    "\n",
    "deltacontourn=pd.read_csv('deltacontourn.csv')\n",
    "xyzcontourn=coordinates('deltacontourn.csv',[0,1,2])\n",
    "\n",
    "contourn_bounds=bounds(xyzcontourn)\n",
    "\n",
    "contourn_poly=Polygon(zip(xyzcontourn[0],xyzcontourn[1]))"
   ]
  },
  {
   "cell_type": "markdown",
   "id": "2bc69a5a",
   "metadata": {},
   "source": [
    "We read the data of those boreholes which reaches the basament."
   ]
  },
  {
   "cell_type": "code",
   "execution_count": 2,
   "id": "29097c3e",
   "metadata": {},
   "outputs": [],
   "source": [
    "basament=pd.read_csv('basament.csv')"
   ]
  },
  {
   "cell_type": "markdown",
   "id": "2730445f",
   "metadata": {},
   "source": [
    "And apply the function 'coordinates' to extract the coordinates from the data."
   ]
  },
  {
   "cell_type": "code",
   "execution_count": 3,
   "id": "ffb53546",
   "metadata": {},
   "outputs": [],
   "source": [
    "xyzbasament=coordinates('basament.csv',[1,2,3])"
   ]
  },
  {
   "cell_type": "markdown",
   "id": "151812fe",
   "metadata": {},
   "source": [
    "Now we use the function 'nearby' to reduce de coordinates to those inside the delta contourn"
   ]
  },
  {
   "cell_type": "code",
   "execution_count": 4,
   "id": "4c27b182",
   "metadata": {},
   "outputs": [],
   "source": [
    "xyzbasament_near=nearby(xyzbasament,contourn_poly,500)"
   ]
  },
  {
   "cell_type": "markdown",
   "id": "d1bd199c",
   "metadata": {},
   "source": [
    "We are going to adapt the bounds taking into account the bound given by the data in the basement, so first we apply the 'bounds' function to the basement and then we use a new function 'bounds_join(b1,b2)' which calculates new bounds of two lists of bounds."
   ]
  },
  {
   "cell_type": "code",
   "execution_count": 5,
   "id": "f4bc5dc1",
   "metadata": {
    "scrolled": true
   },
   "outputs": [],
   "source": [
    "basament_bounds=bounds(xyzbasament)"
   ]
  },
  {
   "cell_type": "code",
   "execution_count": 6,
   "id": "57ef61ee",
   "metadata": {},
   "outputs": [],
   "source": [
    "new_bounds=bounds_join(contourn_bounds,basament_bounds)"
   ]
  },
  {
   "cell_type": "markdown",
   "id": "1c3477b6",
   "metadata": {},
   "source": [
    "We apply the interpolation function"
   ]
  },
  {
   "cell_type": "code",
   "execution_count": 7,
   "id": "8990a202",
   "metadata": {},
   "outputs": [],
   "source": [
    "basament_itp=interpolation(xyzbasament,100,new_bounds)"
   ]
  },
  {
   "cell_type": "markdown",
   "id": "6a3c0ecc",
   "metadata": {},
   "source": [
    "We want to represent the basement surface only within the delta contour. We have defined a 'slice' function to slice data, such as the output of the 'interpolation' function, and take only those points in a polynomial region. We apply this function to the base_int list."
   ]
  },
  {
   "cell_type": "code",
   "execution_count": 8,
   "id": "7394a45c",
   "metadata": {},
   "outputs": [],
   "source": [
    "cbasament_itp=cutting(basament_itp,contourn_poly,500)"
   ]
  },
  {
   "cell_type": "markdown",
   "id": "7e6f33a7",
   "metadata": {},
   "source": [
    "We also want to add a mark at the position of each borehole at cota 7."
   ]
  },
  {
   "cell_type": "code",
   "execution_count": 9,
   "id": "437dc5a7",
   "metadata": {},
   "outputs": [],
   "source": [
    "xyzdat=coordinates('boreholes.csv',[1,2,3])\n",
    "xyzdat_near=nearby(xyzdat,contourn_poly,300)"
   ]
  },
  {
   "cell_type": "markdown",
   "id": "abd6d898",
   "metadata": {},
   "source": [
    "The 'data_p' function is now used to obtain the data for points in the figure."
   ]
  },
  {
   "cell_type": "code",
   "execution_count": 11,
   "id": "b88c6192",
   "metadata": {},
   "outputs": [],
   "source": [
    "data_points=data_p([xyzdat_near,xyzbasament_near],['boreholes location','basement points'],['darkblue','red'],['cross','circle'],2)"
   ]
  },
  {
   "cell_type": "markdown",
   "id": "94177175",
   "metadata": {},
   "source": [
    "To draw the basament surface we use the plotly.graph_objects fuction 'Surface'."
   ]
  },
  {
   "cell_type": "code",
   "execution_count": 16,
   "id": "95e86699",
   "metadata": {},
   "outputs": [
    {
     "data": {
      "text/plain": [
       "'3D_Basament_LRD.html'"
      ]
     },
     "execution_count": 16,
     "metadata": {},
     "output_type": "execute_result"
    }
   ],
   "source": [
    "fig=go.Figure(data=datos_points)\n",
    "fig.add_trace(go.Scatter3d(x=xyzcontourn[0],y=xyzcontourn[1],z=xyzcontourn[2], mode=\"lines\",\n",
    "                           line_width=5,\n",
    "                           name='Delta Contour',\n",
    "                           marker = dict(\n",
    "                               size = 4,\n",
    "                               color = 'black'\n",
    "                               )\n",
    "                          )\n",
    "             )\n",
    "\n",
    "fig.add_trace(go.Surface(z=cbasament_itp[0],x=cbasament_itp[1],y=cbasament_itp[2], \n",
    "                        opacity = 0.7,\n",
    "                        colorscale='brwnyl',\n",
    "                        name='superficie basamento',\n",
    "                        #label='superficie basamento',\n",
    "                        showscale=False\n",
    "                        )             \n",
    "             )\n",
    "\n",
    "fig.update_layout( title=\"Pliocene basement Llobregat Delta, Z scale is x 50\",\n",
    "    scene=dict(aspectratio=dict(x=2, y=2, z=0.5),\n",
    "               xaxis = dict(range=[contourn_bounds[0]-2000,contourn_bounds[1]+2000],),\n",
    "               yaxis = dict(range=[contourn_bounds[2]-2000,contourn_bounds[3]+2000])\n",
    "                            )\n",
    "                 )\n",
    "\n",
    "#fig.show()\n",
    "go_offline.plot(fig,filename='3D_Basament_LRD.html',validate=True, auto_open=False)"
   ]
  },
  {
   "cell_type": "code",
   "execution_count": null,
   "id": "a5c0b060",
   "metadata": {},
   "outputs": [],
   "source": []
  }
 ],
 "metadata": {
  "kernelspec": {
   "display_name": "Python 3 (ipykernel)",
   "language": "python",
   "name": "python3"
  },
  "language_info": {
   "codemirror_mode": {
    "name": "ipython",
    "version": 3
   },
   "file_extension": ".py",
   "mimetype": "text/x-python",
   "name": "python",
   "nbconvert_exporter": "python",
   "pygments_lexer": "ipython3",
   "version": "3.8.12"
  }
 },
 "nbformat": 4,
 "nbformat_minor": 5
}
