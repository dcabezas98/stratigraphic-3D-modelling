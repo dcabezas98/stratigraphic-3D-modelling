{
 "cells": [
  {
   "cell_type": "markdown",
   "id": "aebf1860",
   "metadata": {},
   "source": [
    "# Data manipulation"
   ]
  },
  {
   "cell_type": "markdown",
   "id": "fdba252f",
   "metadata": {},
   "source": [
    "All the functions and all the packages we need are defined in the python file 'functions.py', we call this file and import all the defined functions. "
   ]
  },
  {
   "cell_type": "code",
   "execution_count": 1,
   "id": "4830a990",
   "metadata": {},
   "outputs": [],
   "source": [
    "import functions\n",
    "from functions import *"
   ]
  },
  {
   "cell_type": "markdown",
   "id": "bbadded2",
   "metadata": {},
   "source": [
    "Although the original data comes in an excel file, we have used pandas to extract the data we really want from the original file and save it as a csv file that we read."
   ]
  },
  {
   "cell_type": "code",
   "execution_count": 2,
   "id": "585d4940",
   "metadata": {},
   "outputs": [],
   "source": [
    "data=pd.read_csv('data.csv')"
   ]
  },
  {
   "cell_type": "markdown",
   "id": "80903cfd",
   "metadata": {},
   "source": [
    "## Granulometry data"
   ]
  },
  {
   "cell_type": "markdown",
   "id": "e1ffbc43",
   "metadata": {},
   "source": [
    "We extract from 'data' the corresponding data for clays, sands, gravels and basement respectively."
   ]
  },
  {
   "cell_type": "code",
   "execution_count": 3,
   "id": "9ccc799c",
   "metadata": {},
   "outputs": [],
   "source": [
    "clays=data.loc[(data['Clase']=='arcillas y limos')]\n",
    "sands=data.loc[(data['Clase']=='arenas')]\n",
    "gravels=data.loc[(data['Clase']=='gravillas y gravas')]\n",
    "basament=data.loc[(data['Valor']=='S')]"
   ]
  },
  {
   "cell_type": "markdown",
   "id": "2379c1f8",
   "metadata": {},
   "source": [
    "And save those data to csv files."
   ]
  },
  {
   "cell_type": "code",
   "execution_count": null,
   "id": "d78f7e87",
   "metadata": {},
   "outputs": [],
   "source": [
    "clays.to_csv('clays.csv',index=False)\n",
    "sands.to_csv('sands.csv',index=False)\n",
    "gravels.to_csv('gravels.csv',index=False)\n",
    "basament.to_csv('basament.csv',index=False)"
   ]
  },
  {
   "cell_type": "markdown",
   "id": "66209415",
   "metadata": {},
   "source": [
    "## Stratigraphic intervals"
   ]
  },
  {
   "cell_type": "markdown",
   "id": "bfc62a8d",
   "metadata": {},
   "source": [
    "We have defined three stratigraphic intervals, called lower (> 50 m b.s.l.) in the distal LRD sector, middle (20–50 m b.s.l.) in the central LRD, and upper 25 (< 20 m b.s.l.) spread over the entire LRD. We select clays, sands gravels or basament at each interval and save the data in csv files."
   ]
  },
  {
   "cell_type": "code",
   "execution_count": 4,
   "id": "854b2b63",
   "metadata": {},
   "outputs": [],
   "source": [
    "up_clays=clays.loc[(clays['Cota']>-21)]\n",
    "up_clays.to_csv('up_clays.csv',index=False)\n",
    "mid_clays=clays.loc[(clays['Cota']>-51)&(clays['Cota']<-20)]\n",
    "mid_clays.to_csv('mid_clays.csv',index=False)\n",
    "low_clays=clays.loc[(clays['Cota']<-50)]\n",
    "low_clays.to_csv('low_clays.csv',index=False)"
   ]
  },
  {
   "cell_type": "code",
   "execution_count": 5,
   "id": "2ee4c094",
   "metadata": {},
   "outputs": [],
   "source": [
    "up_sands=sands.loc[(sands['Cota']>-21)]\n",
    "up_sands.to_csv('up_sands.csv',index=False)\n",
    "mid_sands=sands.loc[(sands['Cota']>-51)&(sands['Cota']<-20)]\n",
    "mid_sands.to_csv('mid_sands.csv',index=False)\n",
    "low_sands=sands.loc[(sands['Cota']<-50)]\n",
    "low_sands.to_csv('low_sands.csv',index=False)"
   ]
  },
  {
   "cell_type": "code",
   "execution_count": 6,
   "id": "7555be13",
   "metadata": {},
   "outputs": [],
   "source": [
    "up_gravels=gravels.loc[(gravels['Cota']>-21)]\n",
    "up_gravels.to_csv('up_gravels.csv',index=False)\n",
    "mid_gravels=gravels.loc[(gravels['Cota']>-51)&(gravels['Cota']<-20)]\n",
    "mid_gravels.to_csv('mid_gravels.csv',index=False)\n",
    "low_gravels=gravels.loc[(gravels['Cota']<-50)]\n",
    "low_gravels.to_csv('low_gravels.csv',index=False)"
   ]
  },
  {
   "cell_type": "code",
   "execution_count": null,
   "id": "211414b1",
   "metadata": {},
   "outputs": [],
   "source": []
  }
 ],
 "metadata": {
  "kernelspec": {
   "display_name": "Python 3 (ipykernel)",
   "language": "python",
   "name": "python3"
  },
  "language_info": {
   "codemirror_mode": {
    "name": "ipython",
    "version": 3
   },
   "file_extension": ".py",
   "mimetype": "text/x-python",
   "name": "python",
   "nbconvert_exporter": "python",
   "pygments_lexer": "ipython3",
   "version": "3.8.12"
  }
 },
 "nbformat": 4,
 "nbformat_minor": 5
}
