{
 "cells": [
  {
   "cell_type": "markdown",
   "id": "a4dd0a90",
   "metadata": {},
   "source": [
    "# 3D lithosomes"
   ]
  },
  {
   "cell_type": "markdown",
   "id": "108bd996",
   "metadata": {},
   "source": [
    "Las cuatro primeras lineas son para introducir el módulo funciones y los datos del contorno, incluyendo los bounds que nos servirán para establecer los límites de nuestra figura y el polinómio del contorno que utilizamos para quedarnos con los datos que nos interesan. Estas líneas ya están explicadas en los otros notebook."
   ]
  },
  {
   "cell_type": "code",
   "execution_count": 1,
   "id": "acda7ac6",
   "metadata": {},
   "outputs": [],
   "source": [
    "import functions\n",
    "from functions import *"
   ]
  },
  {
   "cell_type": "code",
   "execution_count": 2,
   "id": "8bcf7a88",
   "metadata": {},
   "outputs": [],
   "source": [
    "deltacontourn=pd.read_csv('deltacontourn.csv')\n",
    "xyzcontourn=coordinates('deltacontourn.csv',[0,1,2])"
   ]
  },
  {
   "cell_type": "code",
   "execution_count": 3,
   "id": "76887321",
   "metadata": {},
   "outputs": [],
   "source": [
    "bounds=bounds(xyzcontourn)"
   ]
  },
  {
   "cell_type": "code",
   "execution_count": 4,
   "id": "78cf479e",
   "metadata": {},
   "outputs": [],
   "source": [
    "contourn_poly=Polygon(zip(xyzcontourn[0],xyzcontourn[1]))"
   ]
  },
  {
   "cell_type": "markdown",
   "id": "b4df5b39",
   "metadata": {},
   "source": [
    "We read the data, classified by stratigraphic intervals"
   ]
  },
  {
   "cell_type": "code",
   "execution_count": 5,
   "id": "ca281e27",
   "metadata": {},
   "outputs": [],
   "source": [
    "up_sands=pd.read_csv('up_sands.csv')\n",
    "mid_sands=pd.read_csv('mid_sands.csv')\n",
    "low_sands=pd.read_csv('low_sands.csv')"
   ]
  },
  {
   "cell_type": "code",
   "execution_count": 6,
   "id": "13466e49",
   "metadata": {},
   "outputs": [],
   "source": [
    "up_gravels=pd.read_csv('up_gravels.csv')\n",
    "mid_gravels=pd.read_csv('mid_gravels.csv')\n",
    "low_gravels=pd.read_csv('low_gravels.csv')"
   ]
  },
  {
   "cell_type": "markdown",
   "id": "a338ec2c",
   "metadata": {},
   "source": [
    "Now we apply the function 'coordinates' to extract the coordinates from the data"
   ]
  },
  {
   "cell_type": "code",
   "execution_count": 7,
   "id": "3106d3e0",
   "metadata": {},
   "outputs": [],
   "source": [
    "xyzup_sands=coordinates('up_sands.csv',[1,2,3])\n",
    "xyzmid_sands=coordinates('mid_sands.csv',[1,2,3])\n",
    "xyzlow_sands=coordinates('low_sands.csv',[1,2,3])"
   ]
  },
  {
   "cell_type": "code",
   "execution_count": 8,
   "id": "391e4fcd",
   "metadata": {},
   "outputs": [],
   "source": [
    "xyzup_gravels=coordinates('up_gravels.csv',[1,2,3])\n",
    "xyzmid_gravels=coordinates('mid_gravels.csv',[1,2,3])\n",
    "xyzlow_gravels=coordinates('low_gravels.csv',[1,2,3])"
   ]
  },
  {
   "cell_type": "markdown",
   "id": "777e262b",
   "metadata": {},
   "source": [
    "And now the function 'nearby' to reduce de coordinates to those inside the delta contourn"
   ]
  },
  {
   "cell_type": "code",
   "execution_count": 9,
   "id": "16845665",
   "metadata": {},
   "outputs": [],
   "source": [
    "xyzup_sands_near=nearby(xyzup_sands,contourn_poly,300)\n",
    "xyzmid_sands_near=nearby(xyzmid_sands,contourn_poly,300)\n",
    "xyzlow_sands_near=nearby(xyzlow_sands,contourn_poly,300)"
   ]
  },
  {
   "cell_type": "code",
   "execution_count": 10,
   "id": "4ba93fca",
   "metadata": {},
   "outputs": [],
   "source": [
    "xyzup_gravels_near=nearby(xyzup_gravels,contourn_poly,300)\n",
    "xyzmid_gravels_near=nearby(xyzmid_gravels,contourn_poly,300)\n",
    "xyzlow_gravels_near=nearby(xyzlow_gravels,contourn_poly,300)"
   ]
  },
  {
   "cell_type": "markdown",
   "id": "ebed2040",
   "metadata": {},
   "source": [
    "The function 'zipxyz' will return an iterator that generates tuples of length 3. It is just as the python zip function but addapted to our context."
   ]
  },
  {
   "cell_type": "code",
   "execution_count": 11,
   "id": "c517b0a0",
   "metadata": {},
   "outputs": [],
   "source": [
    "zipxyzup_sands=zipxyz(xyzup_sands_near)\n",
    "zipxyzmid_sands=zipxyz(xyzmid_sands_near)\n",
    "zipxyzlow_sands=zipxyz(xyzlow_sands_near)"
   ]
  },
  {
   "cell_type": "code",
   "execution_count": 12,
   "id": "70ec468d",
   "metadata": {},
   "outputs": [],
   "source": [
    "zipxyzup_gravels=zipxyz(xyzup_gravels_near)\n",
    "zipxyzmid_gravels=zipxyz(xyzmid_gravels_near)\n",
    "zipxyzlow_gravels=zipxyz(xyzlow_gravels_near)"
   ]
  },
  {
   "cell_type": "markdown",
   "id": "a314ec0d",
   "metadata": {},
   "source": [
    "Mirando a la figura 3D_boreholes_LRD.html observamos varios agrupamientos de materiales, los cuales darán lugar a los litosomas. Queremos definir nubes de puntos con estos agrupamientos, que nos permitirán definir los litosomas. Para ello comenzamos plantando un punto en cada uno de estos agrupamientos, en cada nivel y para cada tipo de material. Metemos estos puntos en las listas p_up, p_mid and p_low para arenas y q_up, q_mid and q_low para gravas."
   ]
  },
  {
   "cell_type": "code",
   "execution_count": 13,
   "id": "5c024f46",
   "metadata": {},
   "outputs": [],
   "source": [
    "p_up=[[425819,4572468,-4],[427520,4578010,-13],[422263,4572006,-2],[427654,4573304,-7],[423805,4575000,1],[415204,4570091,-4]]\n",
    "p_mid=[[422597,4572114,-42],[428622,4575033,-32]]\n",
    "p_low=[[422542,4571860,-53]]"
   ]
  },
  {
   "cell_type": "code",
   "execution_count": 14,
   "id": "c36f8236",
   "metadata": {},
   "outputs": [],
   "source": [
    "q_up=[[428690,4574580,-12],[421651,4579184,-5],[416530,4572040,-20],[420520,4576590,-11],[425311,4576090,4]]\n",
    "q_mid=[[421606,4578734,-24],[427841,4578673,-21],[416955,4571630,-28],[423325,4575350,-37],[419480,4580740,-21]]\n",
    "q_low=[[427150,4573253,-61],[419750,4569568,-51]]"
   ]
  },
  {
   "cell_type": "markdown",
   "id": "03a637a1",
   "metadata": {},
   "source": [
    "La función 'grouping' aplica un proceso nuclear para agrupar los puntos de una lista alrededor de un punto dado, es una función definida recursivamente que no es muy eficiente desde el punto de vista computacional, pero que tiene la ventaja de que su definición es muy simple y además hace el trabajo que queremos. \n",
    "\n",
    "Debido a que hay espacios en que los pozos están muy separados, hemos utilizado criterios geológicos para inferir que materiales pueden encontrarse en lugares localizados en estos espacios en los que no hay datos. Para suplir esta falta de datos, hemos definido unas nuevas listas de puntos que llamamos pp y qq (para arenas y gravas respectivamente) en las que inferimos mediante criterios geológicos que hay arenas (en los pp) y gravas (en los qq). Añadimos estas listas de puntos a los datos reales de gravas y arenas respectivamente. Esto nos permitira que  mediante la función 'grouping' podamos obtener agrupamientos que concuerden con los resultados esperados.\n",
    "\n",
    "Comenzamos definiendo estas listas de puntos"
   ]
  },
  {
   "cell_type": "code",
   "execution_count": 15,
   "id": "3d0e4456",
   "metadata": {},
   "outputs": [],
   "source": [
    "pp_up=[[425900,4572400,-4],[425900,4572200,-4],[425900,4572000,-4],[425900,4571800,-4],[425900,4571600,-4],\n",
    "    [425700,4571600,-4],[425500,4571600,-4],[425900,4572400,-4],[426100,4572400,-4],[426300,4572400,-4],\n",
    "    [426600,4572400,-4],[426900,4572400,-4],[425900,4572600,-4],[425900,4572800,-4],[425900,4573000,-4],\n",
    "    [425900,4573200,-4],[425900,4573200,-4],[425700,4573200,-4],[425500,4573200,-4],[425300,4573200,-4],\n",
    "    [425100,4573200,-4],[424900,4573200,-4],[425700,4573600,-4],[425700,4573800,-4],[425700,4574000,-4],\n",
    "    [425700,4574200,-4],[425700,4574400,-4],[422850,4574505,0],[422850,4573785,0],[422850,4572385,0],[423540,4571069,0],\n",
    "    [415604,4570100,-10],[415704,4570200,-10],[415804,4570250,-10],[415904,4570300,-10],[414600,4569700,-9],\n",
    "    [414200,4569300,-9],[414100,4569100,-9],[413700,4568900,-15],[414400,4569500,-8],[414700,4569600,-7],\n",
    "    [414800,4569900,-7],[415050,4570100,-7],[414650,4569700,-9],[414250,4569300,-9],[414150,4569100,-9],\n",
    "    [413750,4568900,-15],[413800,4569100,-8],[413850,4569300,-10],[413850,4569120,-8],[413900,4569320,-10],\n",
    "    [414450,4569500,-8],[414750,4569600,-7],[414850,4569900,-7],[415100,4570100,-7]]\n",
    "\n",
    "pp_mid=[[423200,4572114,-42],[423400,4572114,-42],[423600,4572114,-42],[423600,4572400,-42],[423600,4572800,-42],\n",
    "        [423800,4572800,-42],[424000,4572800,-42],[424500,4573200,-42],[424800,4572300,-42],[425000,4572300,-42],\n",
    "        [425200,4572700,-42],[425400,4572900,-42],[428622,4575033,-32],[428400,4575033,-32],[428200,4575033,-32],\n",
    "        [428000,4575033,-32],[427800,4575033,-32],[427800,4575400,-32],[4279000,4575800,-32],[428000,4576500,-32],\n",
    "        [428050,4576800,-32],[428000,4576000,-32],[428400,4577500,-32]]\n",
    "\n",
    "pp_low=[[42260,457170,-53]]\n"
   ]
  },
  {
   "cell_type": "code",
   "execution_count": 16,
   "id": "0ec7a849",
   "metadata": {},
   "outputs": [],
   "source": [
    "qq_up=[[416530,4572240,-20],[416530,4572440,-20],[416530,4572640,-20],[416530,4572840,-20],\n",
    "         [416730,4572840,-20],[416930,4572840,-20],[416230,4571940,-20],[415800,4571340,-20],\n",
    "         [415200,4571340,-20],[421080,4579612,-9],[420900,4579700,-9],[420700,4579900,-9],\n",
    "         [420500,4580100,-9],[420500,4580500,-9],[420500,4580700,-9],[420300,4580700,-9],\n",
    "         [420100,4580700,-9],[420500,4580900,-9],[419100,4580300,-9],[419300,4580300,-9],\n",
    "         [421000,4576555,-20],[420750,4576555,-20],[421300,4576555,-20],[420200,4576355,-20],\n",
    "         [419100,4581200,-9],[419100,4581500,-9],[419100,4581700,-9],[418900,4581800,-9],\n",
    "         [429190,4574600,-9]]\n",
    "\n",
    "qq_mid=[[422400,4574572,-40],[422200,4574572,-40],[422000,4574572,-40],[421900,4574572,-40],[421700,4574572,-40],\n",
    "        [424985,4575950,-30],[424800,4575950,-30],[424600,4575950,-30],[424500,4575950,-30],\n",
    "        [428209,4579026,-27],[428000,4579026,-27],[427800,4579026,-27],\n",
    "        [427450,4579475,-27],[427450,4579300,-27],[427450,4579100,-27],[427450,4578900,-27],\n",
    "       [426100,4575656,-27],[426250,4575656,-27],[426500,4575656,-27]]\n",
    "\n",
    "qq_low=[[423930,4571090,-61],[424100,4571090,-61],[424300,4571090,-61],[424500,4571090,-61],[424700,4571090,-61],\n",
    "           [424900,4571090,-61],\n",
    "          [428261,4574247,-68],[428161,4574247,-68],[428000,4574247,-68],\n",
    "          [427100,4572800,-63],[426900,4572900,-63],[426700,4572900,-63],\n",
    "          [417980,4570110,-55],[418100,4570110,-55],[418300,4570110,-55],[418500,4570110,-55],[418700,4570110,-55],\n",
    "          [418900,4570110,-60],[419100,4570110,-60],[419300,4570110,-60],[419500,4570110,-60],[419700,4570110,-60],\n",
    "          [423400,4570900,-56],[423600,4570900,-56],[423800,4570900,-56],[424000,4570900,-56],\n",
    "          [425450,4573880,-58],[425650,4573880,-58],[425850,4573880,-58],[426050,4573880,-58],[426250,4573880,-58]]"
   ]
  },
  {
   "cell_type": "markdown",
   "id": "da97331c",
   "metadata": {},
   "source": [
    "Y ahora las añadimos a las listas de puntos correspondientes a los pozos"
   ]
  },
  {
   "cell_type": "code",
   "execution_count": 17,
   "id": "b8beac99",
   "metadata": {},
   "outputs": [],
   "source": [
    "zxyzup_sands=np.vstack([zipxyzup_sands,pp_up])\n",
    "zxyzmid_sands=np.vstack([zipxyzmid_sands,pp_mid])\n",
    "zxyzlow_sands=np.vstack([zipxyzlow_sands,pp_low])"
   ]
  },
  {
   "cell_type": "code",
   "execution_count": 18,
   "id": "708e554d",
   "metadata": {},
   "outputs": [],
   "source": [
    "zxyzup_gravels=np.vstack([zipxyzup_gravels,qq_up])\n",
    "zxyzmid_gravels=np.vstack([zipxyzmid_gravels,qq_mid])\n",
    "zxyzlow_gravels=np.vstack([zipxyzlow_gravels,qq_low])"
   ]
  },
  {
   "cell_type": "markdown",
   "id": "d75c9e61",
   "metadata": {},
   "source": [
    "Estamos ahora en disposición de utilizar nuestra técnica de nucleación para obtener las nubes de puntos. Para ello aplicampos la función 'grouping' que hace el trabajo. Lo hacemos primero para arenas"
   ]
  },
  {
   "cell_type": "code",
   "execution_count": 19,
   "id": "968693c2",
   "metadata": {},
   "outputs": [],
   "source": [
    "jup_0=grouping([p_up[0]],zxyzup_sands,275)\n",
    "jup_1=grouping([p_up[1]],zxyzup_sands,300)\n",
    "jup_2=grouping([p_up[2]],zxyzup_sands,275)\n",
    "jup_3=grouping([p_up[3]],zxyzup_sands,300)\n",
    "jup_4=grouping([p_up[4]],zxyzup_sands,300)\n",
    "jup_5=grouping([p_up[5]],zxyzup_sands,230)"
   ]
  },
  {
   "cell_type": "code",
   "execution_count": 20,
   "id": "34a8df4a",
   "metadata": {},
   "outputs": [],
   "source": [
    "jup=[jup_0,jup_1,jup_2,jup_3,jup_4,jup_5]"
   ]
  },
  {
   "cell_type": "code",
   "execution_count": 21,
   "id": "dc6d654c",
   "metadata": {},
   "outputs": [],
   "source": [
    "jmid_0=grouping([p_mid[0]],zxyzmid_sands,500)\n",
    "jmid_1=grouping([p_mid[1]],zxyzmid_sands,300)"
   ]
  },
  {
   "cell_type": "code",
   "execution_count": 22,
   "id": "b6df7b07",
   "metadata": {},
   "outputs": [],
   "source": [
    "jmid=[jmid_0,jmid_1]"
   ]
  },
  {
   "cell_type": "code",
   "execution_count": 23,
   "id": "75ef0a4f",
   "metadata": {},
   "outputs": [],
   "source": [
    "jlow_0=grouping([p_low[0]],zxyzlow_sands,500)"
   ]
  },
  {
   "cell_type": "code",
   "execution_count": 24,
   "id": "8e7063c1",
   "metadata": {},
   "outputs": [],
   "source": [
    "jlow=[jlow_0]"
   ]
  },
  {
   "cell_type": "markdown",
   "id": "8a9a7d21",
   "metadata": {},
   "source": [
    "Y a continuación para gravas"
   ]
  },
  {
   "cell_type": "code",
   "execution_count": 25,
   "id": "b236f712",
   "metadata": {},
   "outputs": [],
   "source": [
    "kup_0=grouping([q_up[0]],zxyzup_gravels,550)\n",
    "kup_1=grouping([q_up[1]],zxyzup_gravels,400)\n",
    "kup_2=grouping([q_up[2]],zxyzup_gravels,350)\n",
    "kup_3=grouping([q_up[3]],zxyzup_gravels,350)\n",
    "kup_4=grouping([q_up[4]],zxyzup_gravels,350)"
   ]
  },
  {
   "cell_type": "code",
   "execution_count": 26,
   "id": "d69deae0",
   "metadata": {},
   "outputs": [],
   "source": [
    "kup=[kup_0,kup_1,kup_2,kup_3,kup_4]"
   ]
  },
  {
   "cell_type": "code",
   "execution_count": 27,
   "id": "a34918c0",
   "metadata": {},
   "outputs": [],
   "source": [
    "kmid_0=grouping([q_mid[0]],zxyzmid_gravels,300)\n",
    "kmid_1=grouping([q_mid[1]],zxyzmid_gravels,300)\n",
    "kmid_2=grouping([q_mid[2]],zxyzmid_gravels,500)\n",
    "kmid_3=grouping([q_mid[3]],zxyzmid_gravels,350)\n",
    "kmid_4=grouping([q_mid[4]],zxyzmid_gravels,700)"
   ]
  },
  {
   "cell_type": "code",
   "execution_count": 28,
   "id": "0b545926",
   "metadata": {},
   "outputs": [],
   "source": [
    "kmid=[kmid_0,kmid_1,kmid_2,kmid_3,kmid_4]"
   ]
  },
  {
   "cell_type": "code",
   "execution_count": 29,
   "id": "e998616e",
   "metadata": {},
   "outputs": [],
   "source": [
    "klow_0=grouping([q_low[0]],zxyzlow_gravels,700)\n",
    "klow_1=grouping([q_low[1]],zxyzlow_gravels,700)"
   ]
  },
  {
   "cell_type": "code",
   "execution_count": 30,
   "id": "e9e17cb6",
   "metadata": {},
   "outputs": [],
   "source": [
    "klow=[klow_0,klow_1]"
   ]
  },
  {
   "cell_type": "markdown",
   "id": "c54f8ab9",
   "metadata": {},
   "source": [
    "Once the granulometry data of a lithosome were grouped by using the above nucleation strategy, the elements forming the previously defined groups of each lithosome were computed. For this, the Convex Hull algorithm developed by the SciPy community (https://docs.scipy.org/doc/scipy/reference/generated/scipy.spatial.ConvexHull.html) was implemented. The 3D Convex Hull of a georeferenced dataset is the smallest polyhedron that wraps up all them. We calculate the Convex Hull of each list of points we have obtained."
   ]
  },
  {
   "cell_type": "code",
   "execution_count": 31,
   "id": "147df40b",
   "metadata": {},
   "outputs": [],
   "source": [
    "sands_up_hull=[ConvexHull(x) for x in jup] \n",
    "sands_mid_hull=[ConvexHull(x) for x in jmid] \n",
    "sands_low_hull=[ConvexHull(jlow_0)] "
   ]
  },
  {
   "cell_type": "code",
   "execution_count": 32,
   "id": "a4ac4240",
   "metadata": {},
   "outputs": [],
   "source": [
    "gravels_up_hull=[ConvexHull(x) for x in kup] \n",
    "gravels_mid_hull=[ConvexHull(x) for x in kmid] \n",
    "gravels_low_hull=[ConvexHull(x) for x in klow] "
   ]
  },
  {
   "cell_type": "markdown",
   "id": "62a893aa",
   "metadata": {},
   "source": [
    "La función 'data_lit' que hemos definido, usa la función Mesh3d de plotly.graph_objects para crear los datos necesarios para representar los Convex Hull obtenidos. Usamos esta función en nuestro contexto "
   ]
  },
  {
   "cell_type": "code",
   "execution_count": 33,
   "id": "ced6cf83",
   "metadata": {},
   "outputs": [],
   "source": [
    "gravels_up_names=['gr_up'+str(i) for i in range(len(gravels_up_hull))]\n",
    "gravels_mid_names=['gr_mid'+str(i) for i in range(len(gravels_mid_hull))]\n",
    "gravels_low_names=['gr_low'+str(i) for i in range(len(gravels_low_hull))]"
   ]
  },
  {
   "cell_type": "code",
   "execution_count": 34,
   "id": "d8f9a1ee",
   "metadata": {},
   "outputs": [],
   "source": [
    "data_gravels_up=data_lit(gravels_up_hull,gravels_up_names,0,0.5,'lightblue')\n",
    "data_gravels_mid=data_lit(gravels_mid_hull,gravels_mid_names,0,0.5,'lightblue')\n",
    "data_gravels_low=data_lit(gravels_low_hull,gravels_low_names,0,0.5,'lightblue')"
   ]
  },
  {
   "cell_type": "code",
   "execution_count": 35,
   "id": "a4af6798",
   "metadata": {},
   "outputs": [],
   "source": [
    "sands_up_names=['sd_up'+str(i) for i in range(len(sands_up_hull))]\n",
    "sands_mid_names=['sd_mid'+str(i) for i in range(len(sands_mid_hull))]\n",
    "sands_low_names=['sd_low'+str(i) for i in range(len(sands_low_hull))]\n",
    "\n",
    "data_sands_up=data_lit(sands_up_hull,sands_up_names,0,0.5,'yellow')\n",
    "data_sands_mid=data_lit(sands_mid_hull,sands_mid_names,0,0.5,'yellow')\n",
    "data_sands_low=data_lit(sands_low_hull,sands_low_names,0,0.5,'yellow')"
   ]
  },
  {
   "cell_type": "code",
   "execution_count": 36,
   "id": "4405a1fb",
   "metadata": {},
   "outputs": [],
   "source": [
    "lit_data=data_gravels_up + data_gravels_mid + data_gravels_low + data_sands_up+data_sands_mid+data_sands_low"
   ]
  },
  {
   "cell_type": "markdown",
   "id": "980d3c60",
   "metadata": {},
   "source": [
    "Queremos utilizar Delaunay triangulation para perfilar los litosomas obtenidos, hemos definido una función 'data_tri' que utiliza la función Scatter3d para crear los datos necesarios que nos permiten representar las triangulaciones de Delaunay asociadas a los Convex Hull obtenidos."
   ]
  },
  {
   "cell_type": "code",
   "execution_count": 37,
   "id": "a9d516f2",
   "metadata": {},
   "outputs": [],
   "source": [
    "trigravels_up_names=['trgr_up'+str(i) for i in range(len(gravels_up_hull))]\n",
    "trigravels_mid_names=['trgr_mid'+str(i) for i in range(len(gravels_mid_hull))]\n",
    "trigravels_low_names=['trgr_low'+str(i) for i in range(len(gravels_low_hull))]\n",
    "\n",
    "trisands_up_names=['trsd_up'+str(i) for i in range(len(sands_up_hull))]\n",
    "trisands_mid_names=['trsd_mid'+str(i) for i in range(len(sands_mid_hull))]\n",
    "trisands_low_names=['trsd_low'+str(i) for i in range(len(sands_low_hull))]\n",
    "\n"
   ]
  },
  {
   "cell_type": "code",
   "execution_count": 38,
   "id": "ddc453ee",
   "metadata": {},
   "outputs": [],
   "source": [
    "tdata_gravels_up=data_tri(gravels_up_hull,trigravels_up_names)\n",
    "tdata_gravels_mid=data_tri(gravels_mid_hull,trigravels_mid_names)\n",
    "tdata_gravels_low=data_tri(gravels_low_hull,trigravels_low_names)\n",
    "\n",
    "tdata_sands_up=data_tri(sands_up_hull,trisands_up_names)\n",
    "tdata_sands_mid=data_tri(sands_mid_hull,trisands_mid_names)\n",
    "tdata_sands_low=data_tri(sands_low_hull,trisands_low_names)"
   ]
  },
  {
   "cell_type": "code",
   "execution_count": 39,
   "id": "c957178c",
   "metadata": {},
   "outputs": [],
   "source": [
    "tr_data=tdata_gravels_up + tdata_gravels_mid + tdata_gravels_low + tdata_sands_up+tdata_sands_mid+tdata_sands_low"
   ]
  },
  {
   "cell_type": "markdown",
   "id": "2c4ea2e9",
   "metadata": {},
   "source": [
    "Now we can define the Figure 3D_Lithosomes_LRD.html"
   ]
  },
  {
   "cell_type": "code",
   "execution_count": 40,
   "id": "64e5a717",
   "metadata": {},
   "outputs": [],
   "source": [
    "litosomes_data=lit_data+tr_data"
   ]
  },
  {
   "cell_type": "code",
   "execution_count": 41,
   "id": "36ea2a25",
   "metadata": {},
   "outputs": [
    {
     "data": {
      "text/plain": [
       "'3D_Lithosomes_LRD.html'"
      ]
     },
     "execution_count": 41,
     "metadata": {},
     "output_type": "execute_result"
    }
   ],
   "source": [
    "fig=go.Figure(data=litosomes_data)\n",
    "fig.add_trace(go.Scatter3d(x=xyzcontourn[0],y=xyzcontourn[1],z=xyzcontourn[2], mode=\"lines\",\n",
    "                           line_width=5,\n",
    "                           name='Delta Contour',\n",
    "                           marker = dict(\n",
    "                               size = 4,\n",
    "                               color = 'black'\n",
    "                               )\n",
    "                          )\n",
    "             )\n",
    "\n",
    "fig.update_layout( title=\"3D lithosomes Llobregat Delta, Z scale is x 50\",\n",
    "    scene=dict(aspectratio=dict(x=2, y=2, z=0.5),\n",
    "              xaxis = dict(range=[bounds[0]-2000,bounds[1]+2000],),\n",
    "                             yaxis = dict(range=[bounds[2]-2000,bounds[3]+2000])\n",
    "                            )\n",
    "                 )\n",
    "\n",
    "#fig.show()\n",
    "go_offline.plot(fig,filename='3D_Lithosomes_LRD.html',validate=True, auto_open=False)"
   ]
  },
  {
   "cell_type": "code",
   "execution_count": null,
   "id": "01ac329f",
   "metadata": {},
   "outputs": [],
   "source": []
  }
 ],
 "metadata": {
  "kernelspec": {
   "display_name": "Python 3 (ipykernel)",
   "language": "python",
   "name": "python3"
  },
  "language_info": {
   "codemirror_mode": {
    "name": "ipython",
    "version": 3
   },
   "file_extension": ".py",
   "mimetype": "text/x-python",
   "name": "python",
   "nbconvert_exporter": "python",
   "pygments_lexer": "ipython3",
   "version": "3.8.12"
  }
 },
 "nbformat": 4,
 "nbformat_minor": 5
}
